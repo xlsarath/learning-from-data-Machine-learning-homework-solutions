{
 "cells": [
  {
   "cell_type": "markdown",
   "metadata": {},
   "source": [
    "#(7) PROBLEM 3.1"
   ]
  },
  {
   "cell_type": "code",
   "execution_count": 1,
   "metadata": {},
   "outputs": [],
   "source": [
    "import numpy as np\n",
    "\n",
    "#parameters\n",
    "rad = 10\n",
    "thk = 5\n",
    "sep = 5\n",
    "\n",
    "#n data points,(x1,y1) are the coordinates of the top semi-circle\n",
    "def generatedata(rad,thk,sep,n,x1=0,y1=0):\n",
    "    # center of the top semi-circle\n",
    "    X1 = x1\n",
    "    Y1 = y1\n",
    "\n",
    "    # center of the bottom semi-circle\n",
    "    X2 = X1 + rad + thk / 2\n",
    "    Y2 = Y1 - sep\n",
    "    \n",
    "    # data points in the top semi-circle\n",
    "    top = []\n",
    "    # data points in the bottom semi-circle\n",
    "    bottom = []\n",
    "    \n",
    "    # parameters\n",
    "    r1 = rad + thk\n",
    "    r2 = rad\n",
    "    \n",
    "    cnt = 1\n",
    "    while(cnt <= n):\n",
    "        #uniformed generated points\n",
    "        x = np.random.uniform(-r1,r1)\n",
    "        y = np.random.uniform(-r1,r1)\n",
    "        \n",
    "        d = x**2 + y**2\n",
    "        if(d >= r2**2 and d <= r1**2):\n",
    "            if (y > 0):\n",
    "                top.append([X1 + x,Y1 + y])\n",
    "                cnt += 1\n",
    "            else:\n",
    "                bottom.append([X2 + x,Y2 + y])\n",
    "                cnt += 1\n",
    "        else:\n",
    "            continue\n",
    "\n",
    "    return top,bottom"
   ]
  },
  {
   "cell_type": "code",
   "execution_count": 2,
   "metadata": {},
   "outputs": [
    {
     "data": {
      "text/plain": [
       "<Figure size 640x480 with 1 Axes>"
      ]
     },
     "metadata": {},
     "output_type": "display_data"
    }
   ],
   "source": [
    "import matplotlib.pyplot as plt\n",
    "top,bottom = generatedata(rad,thk,sep,1000)\n",
    "\n",
    "X1 = [i[0] for i in top]\n",
    "Y1 = [i[1] for i in top]\n",
    "\n",
    "X2 = [i[0] for i in bottom]\n",
    "Y2 = [i[1] for i in bottom]\n",
    "plt.scatter(X1,Y1,s = 1)\n",
    "plt.scatter(X2,Y2,s = 1)\n",
    "plt.show()\n"
   ]
  },
  {
   "cell_type": "code",
   "execution_count": 3,
   "metadata": {},
   "outputs": [],
   "source": [
    "# pre-processing the data for (a)\n",
    "x1 = [[1] + i + [1] for i in top]\n",
    "x2 = [[1] + i + [-1] for i in bottom]\n",
    "data = x1 + x2\n",
    "    \n",
    "data = np.array(data)\n",
    "np.random.shuffle(data)"
   ]
  },
  {
   "cell_type": "code",
   "execution_count": 4,
   "metadata": {},
   "outputs": [],
   "source": [
    "class Perceptron(object):\n",
    "    def __init__(self, data):\n",
    "        self.W = np.zeros(len(data[0:3]))\n",
    "        self.flag = True\n",
    "        self.updates = 0;\n",
    "    \n",
    "    def predict(self, x):\n",
    "        activation = np.sign(np.dot(self.W.T,x))\n",
    "        return activation\n",
    "    \n",
    "    def fit(self, data):\n",
    "        X = np.array(data)[:,0:3]\n",
    "        d = np.array(data)[:, 3:4]\n",
    "        \n",
    "        while self.flag:\n",
    "            self.flag = True\n",
    "            for i in range(len(data)):\n",
    "                y = self.predict(X[i])\n",
    "                \n",
    "                if y * d[i] <= 0:\n",
    "                    self.W = self.W + d[i] * X[i]\n",
    "                    self.updates += 1\n",
    "                    self.flag = False\n",
    "                    \n",
    "            if self.flag:\n",
    "                break\n",
    "            else:\n",
    "                self.flag = True"
   ]
  },
  {
   "cell_type": "code",
   "execution_count": 5,
   "metadata": {},
   "outputs": [
    {
     "name": "stdout",
     "output_type": "stream",
     "text": [
      "Weight matrix = [ 9.          1.21608741 43.73495172]\n",
      "Number of updates = 13\n"
     ]
    }
   ],
   "source": [
    "perceptron = Perceptron(data)\n",
    "perceptron.fit(data)\n",
    "print(\"Weight matrix =\",perceptron.W)\n",
    "print (\"Number of updates =\", perceptron.updates)"
   ]
  },
  {
   "cell_type": "code",
   "execution_count": 6,
   "metadata": {},
   "outputs": [
    {
     "data": {
      "image/png": "[encoded data removed]",
      "text/plain": [
       "<Figure size 432x288 with 1 Axes>"
      ]
     },
     "metadata": {
      "needs_background": "light"
     },
     "output_type": "display_data"
    }
   ],
   "source": [
    "X = np.array(data)[:,0:3]\n",
    "plt.plot(X, (perceptron.W[0]-perceptron.W[1]*X)/perceptron.W[2], color='black', linestyle='-', label='g(x)')\n",
    "plt.xlabel(\"X1\");\n",
    "plt.ylabel(\"X2\");\n",
    "plt.scatter(X1,Y1,s = 1)\n",
    "plt.scatter(X2,Y2,s = 1)\n",
    "plt.show()"
   ]
  },
  {
   "cell_type": "code",
   "execution_count": 7,
   "metadata": {},
   "outputs": [],
   "source": [
    "class LinearRegression(object):\n",
    "    def __init__(self, data):\n",
    "        self.temp =0 \n",
    "        \n",
    "    \n",
    "    def compute(self, data):\n",
    "        X = np.array(data)[:,0:3]\n",
    "        y = np.array(data)[:, 3:4]\n",
    "        return np.dot(np.dot(np.linalg.inv(np.dot(np.transpose(X),X)), np.transpose(X)), y)"
   ]
  },
  {
   "cell_type": "code",
   "execution_count": 8,
   "metadata": {},
   "outputs": [
    {
     "name": "stdout",
     "output_type": "stream",
     "text": [
      "[[ 0.25357591]\n",
      " [-0.01123336]\n",
      " [ 0.07610889]]\n"
     ]
    }
   ],
   "source": [
    "linearRegression = LinearRegression(data)\n",
    "Wmin = linearRegression.compute(data)\n",
    "print(Wmin)"
   ]
  },
  {
   "cell_type": "code",
   "execution_count": 9,
   "metadata": {},
   "outputs": [
    {
     "data": {
      "image/png": "[encoded data removed]",
      "text/plain": [
       "<Figure size 432x288 with 1 Axes>"
      ]
     },
     "metadata": {
      "needs_background": "light"
     },
     "output_type": "display_data"
    }
   ],
   "source": [
    "# X = np.array(data)[:,0:3]\n",
    "Y = np.array(data)[:, 3:4]\n",
    "plt.plot(X,-(Wmin[1]/Wmin[2])*X - Wmin[0]/Wmin[2] , color='black', linestyle='-', label='g(x)')\n",
    "plt.xlabel(\"X1\");\n",
    "plt.ylabel(\"X2\");\n",
    "plt.scatter(X1,Y1,s = 1)\n",
    "plt.scatter(X2,Y2,s = 1)\n",
    "plt.show()"
   ]
  },
  {
   "cell_type": "markdown",
   "metadata": {},
   "source": [
    "# (8) problem 3.2"
   ]
  },
  {
   "cell_type": "code",
   "execution_count": 10,
   "metadata": {},
   "outputs": [],
   "source": [
    "#parameters\n",
    "rad = 10\n",
    "thk = 5\n",
    "sep = 5\n",
    "\n",
    "#n data points,(x1,y1) are the coordinates of the top semi-circle\n",
    "def generatedata(rad,thk,sep,n,x1=0,y1=0):\n",
    "    # center of the top semi-circle\n",
    "    X1 = x1\n",
    "    Y1 = y1\n",
    "\n",
    "    # center of the bottom semi-circle\n",
    "    X2 = X1 + rad + thk / 2\n",
    "    Y2 = Y1 - sep\n",
    "    \n",
    "    # data points in the top semi-circle\n",
    "    top = []\n",
    "    # data points in the bottom semi-circle\n",
    "    bottom = []\n",
    "    \n",
    "    # parameters\n",
    "    r1 = rad + thk\n",
    "    r2 = rad\n",
    "    \n",
    "    cnt = 1\n",
    "    while(cnt <= n):\n",
    "        #uniformed generated points\n",
    "        x = np.random.uniform(-r1,r1)\n",
    "        y = np.random.uniform(-r1,r1)\n",
    "        \n",
    "        d = x**2 + y**2\n",
    "        if(d >= r2**2 and d <= r1**2):\n",
    "            if (y > 0):\n",
    "                top.append([X1 + x,Y1 + y])\n",
    "                cnt += 1\n",
    "            else:\n",
    "                bottom.append([X2 + x,Y2 + y])\n",
    "                cnt += 1\n",
    "        else:\n",
    "            continue\n",
    "\n",
    "    return top,bottom"
   ]
  },
  {
   "cell_type": "code",
   "execution_count": 11,
   "metadata": {},
   "outputs": [],
   "source": [
    "class Perceptron(object):\n",
    "    def __init__(self, data):\n",
    "        self.W = np.zeros(len(data[0:3]))\n",
    "        self.flag = True\n",
    "        self.updates = 0;\n",
    "    \n",
    "    def predict(self, x):\n",
    "        activation = np.sign(np.dot(self.W.T,x))\n",
    "        return activation\n",
    "    \n",
    "    def fit(self, data):\n",
    "        X = np.array(data)[:,0:3]\n",
    "        d = np.array(data)[:, 3:4]\n",
    "        \n",
    "        while self.flag:\n",
    "            self.flag = True\n",
    "            for i in range(len(data)):\n",
    "                y = self.predict(X[i])\n",
    "                \n",
    "                if y * d[i] <= 0:\n",
    "                    self.W = self.W + d[i] * X[i]\n",
    "                    self.updates += 1\n",
    "                    self.flag = False\n",
    "                    \n",
    "            if self.flag:\n",
    "                break\n",
    "            else:\n",
    "                self.flag = True\n",
    "\n"
   ]
  },
  {
   "cell_type": "code",
   "execution_count": 12,
   "metadata": {},
   "outputs": [],
   "source": [
    "x = 0.2\n",
    "upadteArr = []\n",
    "sepArr = []\n",
    "while (x<5.2):\n",
    "    top,bottom = generatedata(rad,thk,x,1000)\n",
    "    X1 = [i[0] for i in top]\n",
    "    Y1 = [i[1] for i in top]\n",
    "\n",
    "    X2 = [i[0] for i in bottom]\n",
    "    Y2 = [i[1] for i in bottom]\n",
    "    \n",
    "    x1 = [[1] + i + [1] for i in top]\n",
    "    x2 = [[1] + i + [-1] for i in bottom]\n",
    "    data = x1 + x2\n",
    "    \n",
    "    data = np.array(data)\n",
    "    np.random.shuffle(data)\n",
    "    perceptron = Perceptron(data)\n",
    "    perceptron.fit(data)\n",
    "    upadteArr.append(perceptron.updates)\n",
    "    sepArr.append(x)\n",
    "    x+=0.2"
   ]
  },
  {
   "cell_type": "code",
   "execution_count": 13,
   "metadata": {},
   "outputs": [],
   "source": [
    "# Plot of sep vs number of iterations"
   ]
  },
  {
   "cell_type": "code",
   "execution_count": 14,
   "metadata": {},
   "outputs": [
    {
     "data": {
      "image/png": "[encoded data removed]",
      "text/plain": [
       "<Figure size 432x288 with 1 Axes>"
      ]
     },
     "metadata": {
      "needs_background": "light"
     },
     "output_type": "display_data"
    }
   ],
   "source": [
    "plt.plot(sepArr,upadteArr,  color='black', linestyle='-', label='g(x)')\n",
    "plt.xlabel(\"sep\");\n",
    "plt.ylabel(\"number of updates\");\n",
    "plt.show()"
   ]
  },
  {
   "cell_type": "markdown",
   "metadata": {},
   "source": [
    "# (9) problem 3.3"
   ]
  },
  {
   "cell_type": "code",
   "execution_count": 15,
   "metadata": {},
   "outputs": [],
   "source": [
    "#parameters\n",
    "rad = 10\n",
    "thk = 5\n",
    "sep = -5\n",
    "\n",
    "#n data points,(x1,y1) are the coordinates of the top semi-circle\n",
    "def generatedata(rad,thk,sep,n,x1=0,y1=0):\n",
    "    # center of the top semi-circle\n",
    "    X1 = x1\n",
    "    Y1 = y1\n",
    "\n",
    "    # center of the bottom semi-circle\n",
    "    X2 = X1 + rad + thk / 2\n",
    "    Y2 = Y1 - sep\n",
    "    \n",
    "    # data points in the top semi-circle\n",
    "    top = []\n",
    "    # data points in the bottom semi-circle\n",
    "    bottom = []\n",
    "    \n",
    "    # parameters\n",
    "    r1 = rad + thk\n",
    "    r2 = rad\n",
    "    \n",
    "    cnt = 1\n",
    "    while(cnt <= n):\n",
    "        #uniformed generated points\n",
    "        x = np.random.uniform(-r1,r1)\n",
    "        y = np.random.uniform(-r1,r1)\n",
    "        \n",
    "        d = x**2 + y**2\n",
    "        if(d >= r2**2 and d <= r1**2):\n",
    "            if (y > 0):\n",
    "                top.append([X1 + x,Y1 + y])\n",
    "                cnt += 1\n",
    "            else:\n",
    "                bottom.append([X2 + x,Y2 + y])\n",
    "                cnt += 1\n",
    "        else:\n",
    "            continue\n",
    "\n",
    "    return top,bottom"
   ]
  },
  {
   "cell_type": "code",
   "execution_count": 16,
   "metadata": {},
   "outputs": [],
   "source": [
    "top,bottom = generatedata(rad,thk,sep,1000)\n",
    "\n",
    "X1 = [i[0] for i in top]\n",
    "Y1 = [i[1] for i in top]\n",
    "\n",
    "X2 = [i[0] for i in bottom]\n",
    "Y2 = [i[1] for i in bottom]\n",
    "\n",
    "x1 = [[1] + i + [1] for i in top]\n",
    "x2 = [[1] + i + [-1] for i in bottom]\n",
    "data = x1 + x2\n",
    "    \n",
    "data = np.array(data)\n",
    "np.random.shuffle(data)"
   ]
  },
  {
   "cell_type": "code",
   "execution_count": 17,
   "metadata": {},
   "outputs": [],
   "source": [
    "class Perceptron(object):\n",
    "    def __init__(self, data):\n",
    "        self.W = np.zeros(len(data[0:3]))\n",
    "        self.flag = True\n",
    "        self.updates = 0;\n",
    "    \n",
    "    def predict(self, x):\n",
    "        activation = np.sign(np.dot(self.W.T,x))\n",
    "        return activation\n",
    "    \n",
    "    def fit(self, data):\n",
    "        X = np.array(data)[:,0:3]\n",
    "        d = np.array(data)[:, 3:4]\n",
    "        \n",
    "        while self.flag:\n",
    "            self.flag = True\n",
    "            for i in range(len(data)):\n",
    "                y = self.predict(X[i])\n",
    "                \n",
    "                if y * d[i] <= 0:\n",
    "                    self.W = self.W + d[i] * X[i]\n",
    "                    self.updates += 1\n",
    "                    self.flag = False\n",
    "                    \n",
    "            if self.flag:\n",
    "                break\n",
    "            else:\n",
    "                self.flag = True"
   ]
  },
  {
   "cell_type": "code",
   "execution_count": 18,
   "metadata": {},
   "outputs": [],
   "source": [
    "class PerceptronWithOneUpdate(object):\n",
    "    def __init__(self,data):\n",
    "        self.W = np.zeros(len(data[0:3]))\n",
    "    \n",
    "    def predict(self, x):\n",
    "        activation = np.sign(np.dot(self.W.T,x))\n",
    "        return activation\n",
    "    \n",
    "    def fit(self, data):\n",
    "        X= np.array(data)[:, 0:3]\n",
    "        d = np.array(data)[:, 3:4]\n",
    "        flag = True\n",
    "        while flag:\n",
    "            for i in range(len(data)):\n",
    "                y = self.predict(X[i])\n",
    "                \n",
    "                if y * d[i] <= 0:\n",
    "                    self.W = self.W + d[i] * X[i]\n",
    "                    flag = False;\n",
    "                    break;\n",
    "            return self.W"
   ]
  },
  {
   "cell_type": "code",
   "execution_count": 19,
   "metadata": {},
   "outputs": [],
   "source": [
    "class Pocket(object):\n",
    "    def __init__(self, data):\n",
    "        self.W = np.zeros(len(data[0:3]))\n",
    "        self.Emin = self.computeEmin(data,self.W)\n",
    "        self.EminArr = []\n",
    "        self.Iterations = []\n",
    "        self.Wcurr = self.W\n",
    "    \n",
    "    def predict(self, x, W):\n",
    "        activation = np.sign(np.dot(W.T,x))\n",
    "        return activation\n",
    "    \n",
    "    def computeEmin(self, data, W):\n",
    "        count = 0\n",
    "        X = np.array(data)[:, 0:3]\n",
    "        d = np.array(data)[:, 3:4] \n",
    "        for i in range(len(data)):\n",
    "            if d[i] != self.predict(X[i], W):\n",
    "                count = count + 1\n",
    "        return count/len(data)\n",
    "    \n",
    "    def compute(self, data):\n",
    "        perceptron = PerceptronWithOneUpdate(data) \n",
    "        \n",
    "        for i in range(100000):\n",
    "            self.Wcurr = perceptron.fit(data)\n",
    "            newEmin = self.computeEmin(data,self.Wcurr)\n",
    "            \n",
    "            if  newEmin < self.Emin:\n",
    "                self.Emin = newEmin\n",
    "                self.W = self.Wcurr\n",
    "            self.EminArr.append(self.Emin)\n",
    "            self.Iterations.append(i+1)\n",
    "\n"
   ]
  },
  {
   "cell_type": "code",
   "execution_count": 20,
   "metadata": {},
   "outputs": [
    {
     "name": "stdout",
     "output_type": "stream",
     "text": [
      "[-38.          -2.37059944  14.78509235]\n"
     ]
    }
   ],
   "source": [
    "pocket = Pocket(data)\n",
    "pocket.compute(data)\n",
    "print(pocket.W);"
   ]
  },
  {
   "cell_type": "code",
   "execution_count": 21,
   "metadata": {},
   "outputs": [],
   "source": [
    "# Plot of E(min) vs Iterations for pocket algorithm"
   ]
  },
  {
   "cell_type": "code",
   "execution_count": 22,
   "metadata": {},
   "outputs": [
    {
     "data": {
      "image/png": "[encoded data removed]",
      "text/plain": [
       "<Figure size 432x288 with 1 Axes>"
      ]
     },
     "metadata": {
      "needs_background": "light"
     },
     "output_type": "display_data"
    }
   ],
   "source": [
    "plt.plot(pocket.Iterations,pocket.EminArr, label='g(x)')\n",
    "plt.xlabel(\"Iterations\");\n",
    "plt.ylabel(\"Emin\");\n",
    "plt.show()"
   ]
  },
  {
   "cell_type": "code",
   "execution_count": 23,
   "metadata": {},
   "outputs": [
    {
     "data": {
      "image/png": "[encoded data removed]",
      "text/plain": [
       "<Figure size 432x288 with 1 Axes>"
      ]
     },
     "metadata": {
      "needs_background": "light"
     },
     "output_type": "display_data"
    }
   ],
   "source": [
    "import matplotlib.pyplot as plt\n",
    "X = np.array(data)[:,0:3]\n",
    "plt.plot(X,-(pocket.W[1]/pocket.W[2])*X - pocket.W[0]/pocket.W[2] , color='black', linestyle='-', label='g(x)')\n",
    "plt.xlabel(\"X1\");\n",
    "plt.ylabel(\"X2\");\n",
    "plt.scatter(X1,Y1,s = 1)\n",
    "plt.scatter(X2,Y2,s = 1)\n",
    "plt.show()\n",
    "\n"
   ]
  },
  {
   "cell_type": "code",
   "execution_count": 24,
   "metadata": {},
   "outputs": [],
   "source": [
    "class LinearRegression(object):\n",
    "    def __init__(self, data):\n",
    "        self.Wmin = []\n",
    "        \n",
    "    def compute(self, data):\n",
    "        X = np.array(data)[:,0:3]\n",
    "        y = np.array(data)[:, 3:4]\n",
    "        self.Wmin = np.dot(np.dot(np.linalg.inv(np.dot(np.transpose(X),X)), np.transpose(X)), y)"
   ]
  },
  {
   "cell_type": "code",
   "execution_count": 25,
   "metadata": {},
   "outputs": [],
   "source": [
    "linearRegression = LinearRegression(data)\n",
    "linearRegression.compute(data)"
   ]
  },
  {
   "cell_type": "code",
   "execution_count": 26,
   "metadata": {},
   "outputs": [],
   "source": [
    "#plot for linear regression"
   ]
  },
  {
   "cell_type": "code",
   "execution_count": 27,
   "metadata": {},
   "outputs": [
    {
     "data": {
      "image/png": "[encoded data removed]",
      "text/plain": [
       "<Figure size 432x288 with 1 Axes>"
      ]
     },
     "metadata": {
      "needs_background": "light"
     },
     "output_type": "display_data"
    }
   ],
   "source": [
    "X = np.array(data)[:,0:3]\n",
    "Y = np.array(data)[:, 3:4]\n",
    "plt.plot(X,-(linearRegression.Wmin[1]/linearRegression.Wmin[2])*X - linearRegression.Wmin[0]/linearRegression.Wmin[2] , color='black', linestyle='-', label='g(x)')\n",
    "plt.xlabel(\"X1\");\n",
    "plt.ylabel(\"X2\");\n",
    "plt.scatter(X1,Y1,s = 1)\n",
    "plt.scatter(X2,Y2,s = 1)\n",
    "plt.show()"
   ]
  },
  {
   "cell_type": "markdown",
   "metadata": {},
   "source": [
    "### Linear regression takes less time than pocket algorithm;However pocket algorithm performs better than Linear algorithm"
   ]
  },
  {
   "cell_type": "code",
   "execution_count": 28,
   "metadata": {},
   "outputs": [],
   "source": [
    "#parameters\n",
    "rad = 10\n",
    "thk = 5\n",
    "sep = -5\n",
    "\n",
    "#n data points,(x1,y1) are the coordinates of the top semi-circle\n",
    "def generatedata(rad,thk,sep,n,x1=0,y1=0):\n",
    "    # center of the top semi-circle\n",
    "    X1 = x1\n",
    "    Y1 = y1\n",
    "\n",
    "    # center of the bottom semi-circle\n",
    "    X2 = X1 + rad + thk / 2\n",
    "    Y2 = Y1 - sep\n",
    "    \n",
    "    # data points in the top semi-circle\n",
    "    top = []\n",
    "    # data points in the bottom semi-circle\n",
    "    bottom = []\n",
    "    \n",
    "    # parameters\n",
    "    r1 = rad + thk\n",
    "    r2 = rad\n",
    "    \n",
    "    cnt = 1\n",
    "    while(cnt <= n):\n",
    "        #uniformed generated points\n",
    "        x = np.random.uniform(-r1,r1)\n",
    "        y = np.random.uniform(-r1,r1)\n",
    "        \n",
    "        d = x**2 + y**2\n",
    "        if(d >= r2**2 and d <= r1**2):\n",
    "            if (y > 0):\n",
    "                top.append([X1 + x,Y1 + y])\n",
    "                cnt += 1\n",
    "            else:\n",
    "                bottom.append([X2 + x,Y2 + y])\n",
    "                cnt += 1\n",
    "        else:\n",
    "            continue\n",
    "\n",
    "    return top,bottom"
   ]
  },
  {
   "cell_type": "code",
   "execution_count": 29,
   "metadata": {},
   "outputs": [],
   "source": [
    "top,bottom = generatedata(rad,thk,sep,1000)\n",
    "\n",
    "X1 = [i[0] for i in top]\n",
    "Y1 = [i[1] for i in top]\n",
    "\n",
    "X2 = [i[0] for i in bottom]\n",
    "Y2 = [i[1] for i in bottom]\n",
    "\n",
    "x1 = [[1] + i + [1] for i in top]\n",
    "x2 = [[1] + i + [-1] for i in bottom]\n",
    "data = x1 + x2\n",
    "    \n",
    "data = np.array(data)\n",
    "np.random.shuffle(data)\n",
    "\n"
   ]
  },
  {
   "cell_type": "code",
   "execution_count": 30,
   "metadata": {},
   "outputs": [],
   "source": [
    "class PerceptronWithOneUpdate(object):\n",
    "    def __init__(self, Z):\n",
    "        self.W = np.zeros(len(Z[0:10]))\n",
    "    \n",
    "    def predict(self, x):\n",
    "        activation = np.sign(np.dot(self.W.T,x))\n",
    "        return activation\n",
    "    \n",
    "    def fit(self, data, Z):\n",
    "        d = np.array(data)[:, 3:4]\n",
    "        flag = True\n",
    "        while flag:\n",
    "            for i in range(len(data)):\n",
    "                y = self.predict(Z[i])\n",
    "                \n",
    "                if y * d[i] <= 0:\n",
    "                    self.W = self.W + d[i] * Z[i]\n",
    "                    flag = False;\n",
    "                    break;\n",
    "            return self.W"
   ]
  },
  {
   "cell_type": "code",
   "execution_count": 31,
   "metadata": {},
   "outputs": [],
   "source": [
    "class Pocket(object):\n",
    "    def __init__(self, data, Z):\n",
    "        self.W = np.zeros(len(Z[0:10]))\n",
    "        self.Emin = self.computeEmin(data, Z,self.W)\n",
    "        self.EminArr = []\n",
    "        self.Iterations = []\n",
    "        self.Wcurr = self.W\n",
    "    \n",
    "    def predict(self, x, W):\n",
    "        activation = np.sign(np.dot(W.T,x))\n",
    "        return activation\n",
    "    \n",
    "    def computeEmin(self, data,Z, W):\n",
    "        count = 0\n",
    "        d = np.array(data)[:, 3:4]\n",
    "        for i in range(len(data)):\n",
    "            if d[i] != self.predict(Z[i], W):\n",
    "                count = count + 1\n",
    "        return count/len(data)\n",
    "    \n",
    "    def compute(self, data, Z):\n",
    "        perceptron = PerceptronWithOneUpdate(Z) \n",
    "        \n",
    "        for i in range(100000):\n",
    "            self.Wcurr = perceptron.fit(data, Z)\n",
    "            newEmin = self.computeEmin(data,Z,self.Wcurr)\n",
    "            \n",
    "            if  newEmin < self.Emin:\n",
    "                self.Emin = newEmin\n",
    "                self.W = self.Wcurr\n",
    "            self.EminArr.append(self.Emin)\n",
    "            self.Iterations.append(i+1)"
   ]
  },
  {
   "cell_type": "code",
   "execution_count": 32,
   "metadata": {},
   "outputs": [],
   "source": [
    "class LinearRegression(object):\n",
    "        \n",
    "    \n",
    "    def compute(self, data, Z):\n",
    "        y = np.array(data)[:, 3:4]\n",
    "        return np.dot(np.dot(np.linalg.inv(np.dot(np.transpose(Z),Z)), np.transpose(Z)), y)"
   ]
  },
  {
   "cell_type": "code",
   "execution_count": 33,
   "metadata": {},
   "outputs": [],
   "source": [
    "from sklearn.preprocessing import PolynomialFeatures\n",
    "degree = 3\n",
    "Xn = np.array(data)[:,1:3]\n",
    "poly = PolynomialFeatures(degree)\n",
    "Z= poly.fit_transform(Xn)"
   ]
  },
  {
   "cell_type": "code",
   "execution_count": 34,
   "metadata": {},
   "outputs": [
    {
     "name": "stdout",
     "output_type": "stream",
     "text": [
      "[[-8.22417325e-01]\n",
      " [ 1.53304628e-02]\n",
      " [ 1.35991024e-01]\n",
      " [ 8.39261160e-03]\n",
      " [ 1.24727503e-02]\n",
      " [ 1.45173710e-02]\n",
      " [-3.76185783e-04]\n",
      " [-5.77193936e-04]\n",
      " [-1.04486570e-03]\n",
      " [-1.09440326e-03]]\n"
     ]
    }
   ],
   "source": [
    "linearRegression = LinearRegression()\n",
    "Wmin = linearRegression.compute(data, Z)\n",
    "print(Wmin)"
   ]
  },
  {
   "cell_type": "code",
   "execution_count": 35,
   "metadata": {},
   "outputs": [
    {
     "name": "stdout",
     "output_type": "stream",
     "text": [
      "[ -81490.          -85675.38819806   -2509.62163422   90932.01558903\n",
      "   82022.08664275 -182429.1146915    -6041.79976116    9328.11209143\n",
      "  -30714.14022289   31496.2710635 ]\n"
     ]
    }
   ],
   "source": [
    "pocket = Pocket(data, Z)\n",
    "pocket.compute(data, Z)\n",
    "print(pocket.W);"
   ]
  },
  {
   "cell_type": "code",
   "execution_count": 36,
   "metadata": {},
   "outputs": [
    {
     "data": {
      "image/png": "[encoded data removed]",
      "text/plain": [
       "<Figure size 432x288 with 1 Axes>"
      ]
     },
     "metadata": {
      "needs_background": "light"
     },
     "output_type": "display_data"
    }
   ],
   "source": [
    "plt.plot(pocket.Iterations,pocket.EminArr, label='g(x)')\n",
    "plt.xlabel(\"Iterations\");\n",
    "plt.ylabel(\"Emin\");\n",
    "plt.show()"
   ]
  },
  {
   "cell_type": "markdown",
   "metadata": {},
   "source": [
    "##linear regression contour plot"
   ]
  },
  {
   "cell_type": "code",
   "execution_count": 37,
   "metadata": {},
   "outputs": [
    {
     "data": {
      "image/png": "[encoded data removed]",
      "text/plain": [
       "<Figure size 432x288 with 1 Axes>"
      ]
     },
     "metadata": {
      "needs_background": "light"
     },
     "output_type": "display_data"
    }
   ],
   "source": [
    "#w3_linear=linear_regression(data,order=3) w3_linear = [val for sublist in w3_linear for val in sublist] \n",
    "#print(w3_linear); print('3rd Order Linear Regression Ein : ',error(w3_linear,3)) \n",
    "w=Wmin\n",
    "xlist = np.linspace(-15.0, 25.0,100) \n",
    "ylist = np.linspace(-10.0, 15.0,100)  \n",
    "X,Y = np.meshgrid(xlist, ylist) \n",
    "F = w[0]+w[1]*X+w[2]*Y+w[3]*X*X+w[4]*X*Y+w[5]*Y*Y+w[6]*X*X*X+w[7]*X*X*Y+w[8]*X*Y*Y+w[9]*Y*3 \n",
    "plt.contour(X, Y, F, [0], colors = 'k', linestyles = 'solid') \n",
    "plt.scatter(X1,Y1,s = 1) \n",
    "plt.scatter(X2,Y2,s=1)\n",
    "plt.show()\n",
    "\n"
   ]
  },
  {
   "cell_type": "code",
   "execution_count": 38,
   "metadata": {},
   "outputs": [
    {
     "data": {
      "image/png": "[encoded data removed]",
      "text/plain": [
       "<Figure size 432x288 with 1 Axes>"
      ]
     },
     "metadata": {
      "needs_background": "light"
     },
     "output_type": "display_data"
    }
   ],
   "source": [
    "w = pocket.W\n",
    "xlist = np.linspace(-15.0, 25.0,100) \n",
    "ylist = np.linspace(-10.0, 15.0,100)  \n",
    "X,Y = np.meshgrid(xlist, ylist) \n",
    "F = w[0]+w[1]*X+w[2]*Y+w[3]*X*X+w[4]*X*Y+w[5]*Y*Y+w[6]*X*X*X+w[7]*X*X*Y+w[8]*X*Y*Y+w[9]*Y*3 \n",
    "plt.contour(X, Y, F, [0], colors = 'k', linestyles = 'solid') \n",
    "plt.scatter(X1,Y1,s = 1) \n",
    "plt.scatter(X2,Y2,s=1)\n",
    "plt.show()"
   ]
  },
  {
   "cell_type": "markdown",
   "metadata": {},
   "source": [
    "### Linear algorithm performs faster than pocket algorithm;Performance of linear algorithm is better than pocket in Z dimensional space"
   ]
  },
  {
   "cell_type": "code",
   "execution_count": null,
   "metadata": {},
   "outputs": [],
   "source": []
  }
 ],
 "metadata": {
  "kernelspec": {
   "display_name": "Python 3",
   "language": "python",
   "name": "python3"
  },
  "language_info": {
   "codemirror_mode": {
    "name": "ipython",
    "version": 3
   },
   "file_extension": ".py",
   "mimetype": "text/x-python",
   "name": "python",
   "nbconvert_exporter": "python",
   "pygments_lexer": "ipython3",
   "version": "3.7.2"
  }
 },
 "nbformat": 4,
 "nbformat_minor": 2
}
