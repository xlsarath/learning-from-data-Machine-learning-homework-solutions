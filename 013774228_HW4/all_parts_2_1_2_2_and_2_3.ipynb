{
 "cells": [
  {
   "cell_type": "code",
   "execution_count": 0,
   "metadata": {
    "colab": {},
    "colab_type": "code",
    "id": "j4t3fBZKF8lg"
   },
   "outputs": [],
   "source": [
    "import pandas as pd\n",
    "import numpy as np\n",
    "import numpy.random as ran\n",
    "import math\n",
    "\n",
    "NN_in = 2\n",
    "def hiddenL(input_nodes):\n",
    "    develop_Layer = [input_nodes]\n",
    "    nodes = 2                        # chosing number of nodes to be two\n",
    "    for i in range(int(nodes)):\n",
    "        n = 256                    # number of inputs to be 256, as each value consists 256 labels\n",
    "        L.append(int(n))\n",
    "    out = 1                        # number of outputs to be two        \n",
    "    L.append(int(out))\n",
    "return develop_Layer\n",
    "L_Neural = hiddenL(NN_in)\n",
    "for i in range(1,len(L_Neural)-1):\n",
    "size = len(L_Neural)-1\n",
    "def gen_weight(Lin):\n",
    "    Wt = []\n",
    "    for i in range(len(Lin)-1):\n",
    "        Wt_L = ran.rand(Lin[i],Lin[i+1])\n",
    "        Wt_L = Wt_L / 256\n",
    "        Wt.append(Wt_L)\n",
    "    return Wt\n",
    "Wt_Neural = gen_weight(L_NN)"
   ]
  },
  {
   "cell_type": "code",
   "execution_count": 0,
   "metadata": {
    "colab": {},
    "colab_type": "code",
    "id": "qvmtey2pF8mT"
   },
   "outputs": [],
   "source": [
    "def actPrime(output):\n",
    "    return (1 - output * output)\n",
    "def fwd_Propagation(Win,Xin,Levels):\n",
    "    VC1 = []\n",
    "    S_L1 = np.dot(Xin,Win[0])\n",
    "    theta_SL1 = np.tanh(S_L1)\n",
    "    VC1.append(theta_SL1)\n",
    "    theta_SLN = theta_SL1\n",
    "    for i in range(2,len(Levels)):\n",
    "        S_LN = np.dot(theta_SLN,Win[i-1])\n",
    "        theta_SLN = np.tanh(S_LN)\n",
    "        VC1.append(theta_SLN)\n",
    "    return theta_SLN,S_LN,VC1\n",
    "def back_Propagation(inX,expY,predY,vecTheta,layer,Next):\n",
    "    L = []\n",
    "    Next = np.reshape(Next, (len(Next), 1))\n",
    "    for i in range(1,len(layer)):\n",
    "        L.append(layer[i])\n",
    "    vec = []\n",
    "    vec.append(Next)\n",
    "    for i in range(1,len(L)):\n",
    "        theta = vecTheta[len(L)- i-1]\n",
    "        theta = np.reshape(theta,(len(theta),1))\n",
    "        Cur = (Next.dot(np.transpose(Wt_Neural[len(L)-i]))) * actPrime(vecTheta[len(L)- i-1])\n",
    "        vec.append(Cur)\n",
    "    inX = np.reshape(inX, (1,len(inX)))\n",
    "    delta = np.dot(np.transpose(inX), Next)\n",
    "    vec.append(delta)\n",
    "    return vec"
   ]
  },
  {
   "cell_type": "code",
   "execution_count": 0,
   "metadata": {
    "colab": {},
    "colab_type": "code",
    "id": "CCFuAYSLNK7s"
   },
   "outputs": [],
   "source": [
    "df = pd.read_csv('ZipDigits_train.csv',header=None) \n",
    "test = pd.read_csv('ZipDigits.test',header=None, delimiter=' ')"
   ]
  },
  {
   "cell_type": "code",
   "execution_count": 0,
   "metadata": {
    "colab": {},
    "colab_type": "code",
    "id": "abt6Rtg2F8mx"
   },
   "outputs": [],
   "source": [
    "train_set = np.array(df)\n",
    "TestData = np.array(test)"
   ]
  },
  {
   "cell_type": "markdown",
   "metadata": {},
   "source": [
    "## normalise x and y terms to fit for our Neural Network"
   ]
  },
  {
   "cell_type": "code",
   "execution_count": 0,
   "metadata": {
    "colab": {},
    "colab_type": "code",
    "id": "i44EAKHwF8m0"
   },
   "outputs": [],
   "source": [
    "X1= train_set[:,1:257]\n",
    "X2 = TestData[:,1:257]\n",
    "X1 = X1 - X1.min() # normalize the values to bring them into the range 0-1\n",
    "X2 = X2-X2.min() # normalize the values to bring them into the range 0-1\n",
    "X1 = X1/X1.max()\n",
    "X2 = X2/X2.max()\n",
    "Y1 = train_set[:,0]\n",
    "Y2 = TestData[:,0]\n",
    "Y1 = (np.reshape(Y1, (len(Y1), 1)))\n",
    "Y2 = (np.reshape(Y2, (len(Y2), 1)))\n",
    "print(Y1.shape)"
   ]
  },
  {
   "cell_type": "code",
   "execution_count": 16,
   "metadata": {
    "colab": {
     "base_uri": "https://localhost:8080/",
     "height": 34
    },
    "colab_type": "code",
    "id": "iROACqItF8m3",
    "outputId": "c1799633-0b74-447d-d2de-f515e414c3e9"
   },
   "outputs": [
    {
     "data": {
      "text/plain": [
       "(7291, 256)"
      ]
     },
     "execution_count": 16,
     "metadata": {
      "tags": []
     },
     "output_type": "execute_result"
    }
   ],
   "source": [
    "X1.shape"
   ]
  },
  {
   "cell_type": "code",
   "execution_count": 18,
   "metadata": {
    "colab": {
     "base_uri": "https://localhost:8080/",
     "height": 34
    },
    "colab_type": "code",
    "id": "Kyc9xrTEF8m8",
    "outputId": "5c143ce9-6841-40e8-b95e-62c1a44b0319"
   },
   "outputs": [
    {
     "data": {
      "text/plain": [
       "(2007, 256)"
      ]
     },
     "execution_count": 18,
     "metadata": {
      "tags": []
     },
     "output_type": "execute_result"
    }
   ],
   "source": [
    "X2.shape"
   ]
  },
  {
   "cell_type": "markdown",
   "metadata": {
    "colab_type": "text",
    "id": "POTtNe2tF8nT"
   },
   "source": [
    "## Fine tuning such that target returns valid for 1 and invalid for other inputs"
   ]
  },
  {
   "cell_type": "code",
   "execution_count": null,
   "metadata": {},
   "outputs": [],
   "source": [
    "for i in range(len(Y1)):\n",
    "    if(Y1[i]|Y2[i] != 1):\n",
    "        Y1[i],Y2[i] = -1"
   ]
  },
  {
   "cell_type": "code",
   "execution_count": 27,
   "metadata": {
    "colab": {
     "base_uri": "https://localhost:8080/",
     "height": 85
    },
    "colab_type": "code",
    "id": "qR7JLeU4F8nd",
    "outputId": "701160b2-12e1-41ad-aa80-a89fc1e716e1"
   },
   "outputs": [
    {
     "name": "stdout",
     "output_type": "stream",
     "text": [
      "No of weights into Layer- 1 :  (256, 257)\n",
      "No of weights into Layer- 2 :  (257, 256)\n",
      "No of weights into Layer- 3 :  (256, 1)\n",
      "Size of weight vector:  3\n"
     ]
    }
   ],
   "source": [
    "input_len = X1.shape[1]\n",
    "L_NN = hiddenL(input_len)\n",
    "for i in range(1,len(L_NN)-1):\n",
    "  size = len(L_NN)-1\n",
    "Wt_Neural = gen_weight(L_NN)\n",
    "for i in range(len(Wt_Neural)):\n",
    "    print(\"No of weights into Layer-\",i+1,\": \",Wt_Neural[i].shape)\n",
    "print(\"Size of weight vector: \", len(Wt_Neural))"
   ]
  },
  {
   "cell_type": "code",
   "execution_count": 0,
   "metadata": {
    "colab": {},
    "colab_type": "code",
    "id": "Nn-klqBDF8ng"
   },
   "outputs": [],
   "source": [
    "Err = []\n",
    "\n",
    "for _ in range(2*(10**6)):\n",
    "    Ein = 0\n",
    "    gradient = 0\n",
    "    G_Vector = []\n",
    "\n",
    "    i = ran.randint(len(X1));\n",
    "    for i in range(len(L_NN) - 1):\n",
    "        G_Vector.append(0.0)\n",
    "    \n",
    "    Delout,sLNN,VNN = fwd_Propagation(Wt_Neural,X1[i],L_NN)\n",
    "    predictedOutput = np.sign(DelOut)\n",
    "    deltaLNN = 2 * (DelOut-Y1[i]) * actPrime(DelOut)\n",
    "    Ein = Ein + (1/len(X1))* mean_squared_error(DelOut,Y1[i])\n",
    "    G_Vector[0] = G_Vector[0] + ((1/len(X1)) * (np.dot(np.transpose(X1[i]),del_vector[len(back_Propagation(X1[i],Y1[i],DelOut,VNN,L_NN,deltaLNN))-1])))\n",
    "    temp = []\n",
    "    temp.append(X1)\n",
    "    \n",
    "    for i in range(len(VNN)-1):\n",
    "        temp.append(VNN[i])\n",
    "        \n",
    "    for i in range(2,len(L_NN)-1):\n",
    "        temp[i-1] = np.reshape(temp[i-1],(len(temp[i-1]),1))\n",
    "        GLN = np.dot(del_vector[len(del_vector)-i], temp[i-1])\n",
    "        G_Vector[i] = G_Vector[i] + ((1/len(X1)) * GLN[0][0])\n",
    "\n",
    "    for i in range(len(Wt_Neural)):\n",
    "        Wt_Neural[i] = Wt_Neural[i] - (0.01) *  G_Vector[i]\n",
    "    Err.append(Ein)"
   ]
  },
  {
   "cell_type": "code",
   "execution_count": 29,
   "metadata": {
    "colab": {
     "base_uri": "https://localhost:8080/",
     "height": 500
    },
    "colab_type": "code",
    "id": "qutpnLazF8nn",
    "outputId": "71fe5456-9027-4e19-c469-99eb61d8981a"
   },
   "outputs": [
    {
     "data": {
      "image/png": "[encoded data removed]",
      "text/plain": [
       "<Figure size 864x576 with 1 Axes>"
      ]
     },
     "metadata": {
      "tags": []
     },
     "output_type": "display_data"
    }
   ],
   "source": [
    "import matplotlib.pyplot as plt\n",
    "matplotlib inline\n",
    "fig,ax = plt.subplots(figsize=(12,8))\n",
    "ax.set_ylabel('Ein')\n",
    "ax.set_xlabel('Iterations')\n",
    "H = ax.plot(range(2*(10**6)),Err,'b.')"
   ]
  },
  {
   "cell_type": "markdown",
   "metadata": {
    "colab_type": "text",
    "id": "TwtXuVf-F8nq"
   },
   "source": [
    "## formal test"
   ]
  },
  {
   "cell_type": "code",
   "execution_count": 30,
   "metadata": {
    "colab": {
     "base_uri": "https://localhost:8080/",
     "height": 136
    },
    "colab_type": "code",
    "id": "qV4gnWbiF8nr",
    "outputId": "9eb6f309-bfc4-461a-84ba-ffbf8ba5cca3"
   },
   "outputs": [
    {
     "name": "stdout",
     "output_type": "stream",
     "text": [
      "predicted output:  [[-1.]\n",
      " [-1.]\n",
      " [-1.]\n",
      " ...\n",
      " [-1.]\n",
      " [-1.]\n",
      " [-1.]]\n"
     ]
    }
   ],
   "source": [
    "from sklearn.metrics import mean_squared_error\n",
    "DelOutTt,sLTest,theta_VectorTest = fwd_Propagation(Wt_Neural,X2,L_NN)\n",
    "T_Out = np.sign(DelOutTt)\n",
    "errorTest = np.sqrt(mean_squared_error(Y2, T_Out))\n",
    "print(\"predicted output: \",T_Out)"
   ]
  },
  {
   "cell_type": "markdown",
   "metadata": {
    "colab_type": "text",
    "id": "wmZsm4a3h9YT"
   },
   "source": [
    "## final question 3\n",
    "### 1 Variable Rate Gradient Descent\n",
    "- we could see there's decline in Ein w.r.t learning curve improvement at every epoch \n",
    "### 2 and 3 steepest descent and conjugate gradient descent\n",
    " - may be increasing number of epochs and increasing learning rate could improve these terms"
   ]
  },
  {
   "cell_type": "code",
   "execution_count": 0,
   "metadata": {
    "colab": {},
    "colab_type": "code",
    "id": "5gryk-u6F8nu"
   },
   "outputs": [],
   "source": []
  }
 ],
 "metadata": {
  "accelerator": "TPU",
  "colab": {
   "collapsed_sections": [],
   "name": "HW4_Part2_Copy1_2-2.ipynb",
   "provenance": [],
   "toc_visible": true,
   "version": "0.3.2"
  },
  "kernelspec": {
   "display_name": "Python 3",
   "language": "python",
   "name": "python3"
  },
  "language_info": {
   "codemirror_mode": {
    "name": "ipython",
    "version": 3
   },
   "file_extension": ".py",
   "mimetype": "text/x-python",
   "name": "python",
   "nbconvert_exporter": "python",
   "pygments_lexer": "ipython3",
   "version": "3.7.3"
  }
 },
 "nbformat": 4,
 "nbformat_minor": 1
}
